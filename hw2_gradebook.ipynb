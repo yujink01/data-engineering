{
 "cells": [
  {
   "cell_type": "code",
   "execution_count": 1,
   "id": "3e480ccf-4d61-4666-b7c8-e768c33cba3a",
   "metadata": {},
   "outputs": [
    {
     "name": "stdout",
     "output_type": "stream",
     "text": [
      "[['physics', 98], ['calculus', 97], ['poetry', 85], ['history', 88]]\n"
     ]
    }
   ],
   "source": [
    "subjects = [\"physics\", \"calculus\", \"poetry\", \"history\"]\n",
    "grades = [98, 97, 85, 88]\n",
    "\n",
    "gradebook = [[subjects[0],grades[0]], [subjects[1],grades[1]], [subjects[2],grades[2]], [subjects[3],grades[3]]]\n",
    "print(gradebook)"
   ]
  },
  {
   "cell_type": "code",
   "execution_count": 2,
   "id": "db18e029-693b-4540-9dcb-0b23b79d9fc8",
   "metadata": {},
   "outputs": [
    {
     "name": "stdout",
     "output_type": "stream",
     "text": [
      "[['physics', 98], ['calculus', 97], ['poetry', 85], ['history', 88]]\n"
     ]
    }
   ],
   "source": [
    "subjects.append('computer science')\n",
    "grades.append(100)\n",
    "\n",
    "\n",
    "subjects.append('visual arts')\n",
    "\n",
    "print(gradebook)"
   ]
  },
  {
   "cell_type": "code",
   "execution_count": null,
   "id": "db29368d-f04f-4684-886a-7751fa559991",
   "metadata": {},
   "outputs": [],
   "source": []
  }
 ],
 "metadata": {
  "kernelspec": {
   "display_name": "Python 3",
   "language": "python",
   "name": "python3"
  },
  "language_info": {
   "codemirror_mode": {
    "name": "ipython",
    "version": 3
   },
   "file_extension": ".py",
   "mimetype": "text/x-python",
   "name": "python",
   "nbconvert_exporter": "python",
   "pygments_lexer": "ipython3",
   "version": "3.8.8"
  }
 },
 "nbformat": 4,
 "nbformat_minor": 5
}
